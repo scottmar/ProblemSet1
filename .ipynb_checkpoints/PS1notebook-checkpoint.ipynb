{
 "cells": [
  {
   "cell_type": "markdown",
   "metadata": {},
   "source": [
    "Scott Margeson\n",
    "11.s947 Big Data and Society\n",
    "Problem Set 1"
   ]
  },
  {
   "cell_type": "markdown",
   "metadata": {},
   "source": [
    "1 - Lists\n",
    "\n",
    "    Do the following:\n",
    "\n",
    "    Create a list containing any 4 strings.\n",
    "    Print the 3rd item in the list\n",
    "    Print the 1st and 2nd item in the list using [:] index slicing.\n",
    "    Add a new string with text “last” to the end of the list and print the list.\n",
    "    Get the list length and print it.\n",
    "    Replace the last item in the list with the string “new” and print\n",
    "\n"
   ]
  },
  {
   "cell_type": "code",
   "execution_count": null,
   "metadata": {
    "collapsed": false
   },
   "outputs": [],
   "source": [
    "# make a list\n",
    "L1=['cookies','chocolate','cake','candy']\n",
    "# select items\n",
    "print L1[2]\n",
    "print L1[0:2]\n",
    "# manipulate the list items\n",
    "L1.append('last')\n",
    "print L1\n",
    "print len(L1)\n",
    "L1[-1]='new'\n",
    "print L1"
   ]
  },
  {
   "cell_type": "markdown",
   "metadata": {},
   "source": [
    "2 - Strings\n",
    "\n",
    "    Given the following list of words:\n",
    "    list1=['I', 'am', 'learning','Python','to','munge','large','datasets','and','visualize','them']\n",
    "\n",
    "    Convert the list into a normal sentence with join(), then print.\n",
    "    Reverse the order of this list [“them”,”visualize”,…]\n",
    "    Now sort the list using the default sort order in python\n",
    "    Modify the sort to do a case insensitive alphabetic sort\n",
    "    Now print the list in reverse alphabetic sort order"
   ]
  },
  {
   "cell_type": "code",
   "execution_count": null,
   "metadata": {
    "collapsed": false
   },
   "outputs": [],
   "source": [
    "list1=['I', 'am', 'learning','Python','to','munge','large','datasets','and','visualize','them']\n",
    "# Create a sentence structure\n",
    "normal=' ';\n",
    "print normal.join(list1)\n",
    "# Manipulate the list order\n",
    "list1.reverse()\n",
    "print list1\n",
    "list1.sort()\n",
    "print list1\n",
    "list1.sort(key=str.lower)\n",
    "print list1\n",
    "list1.sort(key=str.lower, reverse=True)\n",
    "print list1\n"
   ]
  },
  {
   "cell_type": "markdown",
   "metadata": {
    "collapsed": true
   },
   "source": [
    "3 - Random Function\n",
    "\n",
    "    Here is a python snippet for generating a random integer:\n",
    "\n",
    "    Python\n",
    "    import random # this returns random integer: 100 <= number <= 1000 \n",
    "    num = random.randint(100, 1000)\n",
    "\n",
    "    Implement your own random function that builds on this python function, returning an integer between a low and a high number supplied by the user, but that can be called with the low number optional (default to 0).\n",
    "\n",
    "    Test your function by adding the following 2 assert statements to your file (replace myrandom and low with the names you used). The assert statement helps you debug, by testing if a statement is true.\n",
    "\n",
    "    Python\n",
    "    assert(0 <= myrandom(100) <= 100)\n",
    "    assert(50 <= myrandom(100,low=50) <= 100)\n",
    "\n",
    "    Inputs:\n",
    "        Two integers that will be used as lower and upper bounds of the function.\n",
    "    Outputs:\n",
    "        A random number within the established bounds.\n"
   ]
  },
  {
   "cell_type": "code",
   "execution_count": null,
   "metadata": {
    "collapsed": false
   },
   "outputs": [],
   "source": [
    "import random\n",
    "\n",
    "# Build a function\n",
    "def pickanumber ( max, min=0 ):\n",
    "    \"Takes two inputs and generates a random integer between them\"\n",
    "    if min>=max:\n",
    "        print \"Max must be greater than min. Please try again.\"\n",
    "        return;\n",
    "    guess = random.randint(min,max)\n",
    "    return guess;\n",
    "# test it out\n",
    "print pickanumber(25,5)\n",
    "assert(0<=pickanumber(100)<=100)\n",
    "assert(50<=pickanumber(100,min=50)<=100)"
   ]
  },
  {
   "cell_type": "markdown",
   "metadata": {
    "collapsed": true
   },
   "source": [
    "4 - String Formatting Function\n",
    "\n",
    "    Write a function that expects 2 inputs from the command line. The first is a title that may be multiple words, the second is a number. Given these inputs print the following string (replacing N and Title with the dynamic values passed in to the script each time it runs).\n",
    "\n",
    "    The number N bestseller today is: Title\n",
    "\n",
    "    If not already title-cased, the function should title-case the string.\n",
    "    Build one function making the first input optional (keeping the 2nd required).\n",
    "    Build another function making the second input optional (keeping the 1st required).\n",
    "    Build a third function making both inputs optional.\n"
   ]
  },
  {
   "cell_type": "code",
   "execution_count": null,
   "metadata": {
    "collapsed": false
   },
   "outputs": [],
   "source": [
    "#build a function\n",
    "def bookreport( name, rank ):\n",
    "    print \"The number \" + str(rank) + \" bestseller today is: \" + str.title(str(name))\n",
    "    return;\n",
    "\n",
    "# Make the name argument optional\n",
    "def bookreport1( rank, name=\"no title\"):\n",
    "    bookreport( name, rank )\n",
    "    return;\n",
    "\n",
    "# Make the rank argument optional\n",
    "def bookreport2( name, rank=0 ):\n",
    "    bookreport ( name, rank )\n",
    "    return;\n",
    "\n",
    "# Make both arguments optional\n",
    "def bookreport3( name=\"no title\", rank=0 ):\n",
    "    bookreport (name, rank)\n",
    "    return;\n",
    "\n",
    "# test them\n",
    "bookreport( 'jurassiC paRk',7)\n",
    "bookreport1( 45 )\n",
    "bookreport2('strings and things')\n",
    "bookreport3()\n"
   ]
  },
  {
   "cell_type": "markdown",
   "metadata": {},
   "source": [
    "5 - Password Validation Function\n",
    "\n",
    "       Write a password validation function. Ask the user to input a password that meets the criteria listed below. You can either use the Python input built-in function, or just pass the password as a function argument. Validate that the user’s password matches this criteria. After 3 bad tries, quit with an error message. If password is valid, print a helpful success message .password length must be 8-14 characters\n",
    "    password must contain at least 2 digits\n",
    "    password must contain at least 1 uppercase letter\n",
    "    password must contain at least 1 special character from this set !@#%^&*()-_+=\n",
    "    Inputs:\n",
    "    A string that will be tested for the password requirements. The string can be passed as an argument to the function, or as an input through the input function.\n",
    "    Outputs:\n",
    "    A success message if the password works, otherwise an error message.\n",
    "    \n",
    "    \n",
    "    "
   ]
  },
  {
   "cell_type": "code",
   "execution_count": null,
   "metadata": {
    "collapsed": false
   },
   "outputs": [],
   "source": [
    "# Define a function that counts the occurrences of each number, iterating 0-9 and tracking the total\n",
    "def numcount(typed):\n",
    "    pw=str(typed)\n",
    "    a=0\n",
    "    num=0\n",
    "    while a<10:\n",
    "        num+=pw.count(str(a))\n",
    "        a+=1\n",
    "    return num;\n",
    "\n",
    "#print numcount(\"sc7raggle5068\")\n",
    "\n",
    "# Define a function that checks for uppercase letters\n",
    "def uppercheck(typed):\n",
    "    pw=str(typed)\n",
    "    if pw.islower():\n",
    "        return False;\n",
    "    return True;\n",
    "\n",
    "#print uppercheck(\"dogG\")\n",
    "    \n",
    "# Define a function that counts special symbols\n",
    "def symbolcount(typed):\n",
    "    l1=[\"!\",\"@\",\"#\",\"^\",\"$\",\"%\",\"&\",\"*\",\"(\",\")\",\"-\",\"_\",\"+\",\"=\"]\n",
    "    pw=str(typed)\n",
    "    num=0\n",
    "    for symbol in l1:\n",
    "        num+=pw.count(symbol)\n",
    "    return num;\n",
    "\n",
    "#print symbolcount(\"$thed^og%\")\n",
    "    \n",
    "# Create a wrapper function to interpret the results\n",
    "def passcheck():\n",
    "    pw = raw_input(\"Please enter your password:\")\n",
    "    nums = numcount(pw)\n",
    "    upps = uppercheck(pw)\n",
    "    syms = symbolcount(pw)\n",
    "    if nums <2:\n",
    "        print \"You must use 2 or more numbers.\"\n",
    "    if upps == False:\n",
    "        print \"You must use at least one uppercase letter.\"\n",
    "    if syms <1:\n",
    "        print \"You must use at least one symbol.\"\n",
    "    elif nums>=2 and upps != False and syms>=1:\n",
    "        print \"Your password fits the criteria.\"\n",
    "    return;\n",
    "\n",
    "passcheck()\n",
    "\n",
    "    "
   ]
  },
  {
   "cell_type": "markdown",
   "metadata": {},
   "source": [
    "Exponentiation Function\n",
    "\n",
    "Create a function called exp that asks for two digits and then prints an exponentiation, without using the exponentiation operator (**). You may assume these are positive integers. Use at least one custom-defined function.\n",
    "\n",
    "For example, some outputs of this function could be:\n",
    "\n",
    "    2 , 3 => 8\n",
    "\n",
    "    5 , 4 => 625\n",
    "\n",
    "    Inputs:\n",
    "        An integer that will be recursively multiplied\n",
    "        An integer that will define the number of times to multiply the number to get the exponentiation.\n",
    "    Outputs:\n",
    "        An integer that is the result of the exponentiation.\n",
    "\n",
    "Hint: You can recursively multiply a number. The second number defines the number of times the recursive loop happens. Every time the loop happens, you can redefine the variable that gets multiplied.\n"
   ]
  },
  {
   "cell_type": "code",
   "execution_count": null,
   "metadata": {
    "collapsed": false
   },
   "outputs": [],
   "source": [
    "# Define a recursive multiplication function that stops after 'b' iterations.\n",
    "def exp(a,b):\n",
    "    step=1\n",
    "    result=a\n",
    "    while step<b:\n",
    "        result = result*a\n",
    "        step+=1;\n",
    "    return result\n",
    "\n",
    "print exp(2,10)"
   ]
  },
  {
   "cell_type": "markdown",
   "metadata": {},
   "source": [
    "Min and Max Functions (BONUS Question)\n",
    "\n",
    "If you successfully implement the function, you can skip 2 questions in one future pset.\n",
    "\n",
    "Write your own versions of the Python built-in functions min and max. They should take a list as an argument and return the minimum or maximum element. Assume lists contain numeric items only.\n",
    "\n",
    "    Inputs:\n",
    "        A list of numbers to be tested.\n",
    "    Outputs:\n",
    "        A number of the list that is the maximum or minimum.\n",
    "\n",
    "Hint: Pick the first element as the minimum(maximum) and then loop through the elements to find a smaller(larger) element. Each time you find a smaller (larger) element, update your minimum (maximum)."
   ]
  },
  {
   "cell_type": "code",
   "execution_count": null,
   "metadata": {
    "collapsed": false
   },
   "outputs": [],
   "source": [
    "# Define a new min function\n",
    "def oddmin(list1):\n",
    "    if type(list1)!= list:\n",
    "        return \"That's not a list. Try again.\";\n",
    "    selection = list1[0]\n",
    "    for item in list1:\n",
    "        if item < selection:\n",
    "            selection = item   \n",
    "    return selection;\n",
    "\n",
    "\n",
    "# Alter the code to make a max function instead\n",
    "def oddmax(list1):\n",
    "    if type(list1)!= list:\n",
    "        return \"That's not a list. Try again.\";\n",
    "    selection = list1[0]\n",
    "    for item in list1:\n",
    "        if item > selection:\n",
    "            selection = item   \n",
    "    return selection;\n",
    "\n",
    "l1=[5,6,88,12,4,9]\n",
    "print oddmin(l1)\n",
    "print oddmax(l1)\n",
    "\n",
    "# Alternatively,\n",
    "\n",
    "def newmin(list1):\n",
    "    if type(list1)!= list:\n",
    "        return \"That's not a list. Try again.\";\n",
    "    list1.sort()\n",
    "    return list1[0]\n",
    "\n",
    "def newmax(list1):\n",
    "    if type(list1)!= list:\n",
    "        return \"That's not a list. Try again.\";\n",
    "    list1.sort()\n",
    "    return list1[-1]\n",
    "\n",
    "\n",
    "print newmin(l1)\n",
    "print newmax(l1)"
   ]
  },
  {
   "cell_type": "markdown",
   "metadata": {},
   "source": [
    "Hangman Game (BONUS Question)\n",
    "\n",
    "If you successfully implement the function, you can skip 2 questions in one future pset.\n",
    "\n",
    "Implement a basic hangman game through a function.\n",
    "\n",
    "    Show a user the word or phrase (5-15 letters) that they have to guess with dashes as placeholders for unsolved letters. You can hardcode this word into your source.\n",
    "    Prompt the user to guess a letter or solve the puzzle through the user input function. They get up to 8 guesses. After each guess, show the word with any instances of correctly guessed letters filled in. Show the number of tries left. Handle possible issues with user input in a consistent way.\n",
    "    Continue to prompt the user until either they’ve used up their 8 guesses or solved.\n",
    "    If they solve the puzzle in time, show the completed word and a congratulatory message.\n",
    "    If they fail to solve the puzzle, show the completed word and a Game Over message.\n",
    "\n",
    "Here’s a sample transcript.\n",
    "\n",
    "    You have 8 guesses to solve this word.\n",
    "\n",
    "    guess a letter or solve: b\n",
    "\n",
    "    b--b--b-- (7 tries left)\n",
    "\n",
    "    guess a letter or solve: x\n",
    "\n",
    "    b--b--b-- (6 tries left)\n",
    "\n",
    "    guess a letter or solve: e\n",
    "\n",
    "    b--b-ebee (5 tries left)\n",
    "\n",
    "    guess a letter or solve: bumblebee\n",
    "\n",
    "    bumblebee (4 tries left)\n",
    "\n",
    "    Congratulations, you won!\n",
    "\n",
    "    Inputs:\n",
    "        A string that will be tested to see whether or not it is part of the secret word.\n",
    "    Outputs:\n",
    "        A message that shows the user the number of guessed letters at the time.\n",
    "        A success message if the user wins, otherwise a try again message.\n"
   ]
  },
  {
   "cell_type": "code",
   "execution_count": null,
   "metadata": {
    "collapsed": true
   },
   "outputs": [],
   "source": []
  }
 ],
 "metadata": {
  "kernelspec": {
   "display_name": "Python 2",
   "language": "python",
   "name": "python2"
  },
  "language_info": {
   "codemirror_mode": {
    "name": "ipython",
    "version": 2
   },
   "file_extension": ".py",
   "mimetype": "text/x-python",
   "name": "python",
   "nbconvert_exporter": "python",
   "pygments_lexer": "ipython2",
   "version": "2.7.11"
  }
 },
 "nbformat": 4,
 "nbformat_minor": 0
}
