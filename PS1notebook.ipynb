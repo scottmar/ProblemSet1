{
 "cells": [
  {
   "cell_type": "markdown",
   "metadata": {},
   "source": [
    "Scott Margeson\n",
    "11.s947 Big Data and Society\n",
    "Problem Set 1"
   ]
  },
  {
   "cell_type": "markdown",
   "metadata": {},
   "source": [
    "1. Lists\n",
    "\n",
    "Do the following:\n",
    "\n",
    "    Create a list containing any 4 strings.\n",
    "    Print the 3rd item in the list\n",
    "    Print the 1st and 2nd item in the list using [:] index slicing.\n",
    "    Add a new string with text “last” to the end of the list and print the list.\n",
    "    Get the list length and print it.\n",
    "    Replace the last item in the list with the string “new” and print\n",
    "\n"
   ]
  },
  {
   "cell_type": "code",
   "execution_count": 24,
   "metadata": {
    "collapsed": false
   },
   "outputs": [
    {
     "name": "stdout",
     "output_type": "stream",
     "text": [
      "cake\n",
      "['cookies', 'chocolate']\n",
      "['cookies', 'chocolate', 'cake', 'candy', 'last']\n",
      "5\n",
      "['cookies', 'chocolate', 'cake', 'candy', 'new']\n"
     ]
    }
   ],
   "source": [
    "L1=['cookies','chocolate','cake','candy']\n",
    "print L1[2]\n",
    "print L1[0:2]\n",
    "L1.append('last')\n",
    "print L1\n",
    "print len(L1)\n",
    "L1[-1]='new'\n",
    "print L1"
   ]
  },
  {
   "cell_type": "markdown",
   "metadata": {},
   "source": [
    "\n",
    "2. Strings\n",
    "\n",
    "Given the following list of words:\n",
    "Python\n",
    "list1=['I', 'am', 'learning','Python','to','munge','large','datasets','and','visualize','them']\n",
    "\n",
    "    Convert the list into a normal sentence with join(), then print.\n",
    "    Reverse the order of this list [“them”,”visualize”,…]\n",
    "    Now sort the list using the default sort order in python\n",
    "    Modify the sort to do a case insensitive alphabetic sort\n",
    "    Now print the list in reverse alphabetic sort order"
   ]
  },
  {
   "cell_type": "code",
   "execution_count": 34,
   "metadata": {
    "collapsed": false
   },
   "outputs": [
    {
     "name": "stdout",
     "output_type": "stream",
     "text": [
      "I am learning Python to munge large datasets and visualize them\n",
      "['I', 'Python', 'am', 'and', 'datasets', 'large', 'learning', 'munge', 'them', 'to', 'visualize']\n"
     ]
    }
   ],
   "source": [
    "list1=['I', 'am', 'learning','Python','to','munge','large','datasets','and','visualize','them']\n",
    "normal=' ';\n",
    "print normal.join(list1)\n",
    "list1.reverse()\n",
    "list1.sort()\n",
    "list1.sort()\n",
    "print list1\n"
   ]
  },
  {
   "cell_type": "code",
   "execution_count": null,
   "metadata": {
    "collapsed": true
   },
   "outputs": [],
   "source": []
  }
 ],
 "metadata": {
  "kernelspec": {
   "display_name": "Python 2",
   "language": "python",
   "name": "python2"
  },
  "language_info": {
   "codemirror_mode": {
    "name": "ipython",
    "version": 2
   },
   "file_extension": ".py",
   "mimetype": "text/x-python",
   "name": "python",
   "nbconvert_exporter": "python",
   "pygments_lexer": "ipython2",
   "version": "2.7.11"
  }
 },
 "nbformat": 4,
 "nbformat_minor": 0
}
